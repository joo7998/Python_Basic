{
 "cells": [
  {
   "cell_type": "markdown",
   "id": "287480a0-bf02-4d43-bed0-a21288d83eba",
   "metadata": {},
   "source": [
    "# List"
   ]
  },
  {
   "cell_type": "code",
   "execution_count": 4,
   "id": "4cf72131-9b14-47f4-bcfb-2bbe540a77ce",
   "metadata": {},
   "outputs": [],
   "source": [
    "# eval()"
   ]
  },
  {
   "cell_type": "code",
   "execution_count": 5,
   "id": "b6b25e5d-a6fa-40c6-8509-9c2fc1b3dd23",
   "metadata": {},
   "outputs": [
    {
     "name": "stdin",
     "output_type": "stream",
     "text": [
      "  3\n"
     ]
    },
    {
     "name": "stdout",
     "output_type": "stream",
     "text": [
      "4\n"
     ]
    }
   ],
   "source": [
    "x = int(input(\" \"))\n",
    "print(eval('x + 1'))"
   ]
  },
  {
   "cell_type": "code",
   "execution_count": 9,
   "id": "79027871-d689-4002-8674-e3c7fc058b0a",
   "metadata": {},
   "outputs": [
    {
     "name": "stdin",
     "output_type": "stream",
     "text": [
      "Type a function: ex) area(a)  perimeter(a)\n"
     ]
    },
    {
     "name": "stdout",
     "output_type": "stream",
     "text": [
      "Length =  1 perimeter =  4\n",
      "Length =  2 perimeter =  8\n",
      "Length =  3 perimeter =  12\n",
      "Length =  4 perimeter =  16\n"
     ]
    }
   ],
   "source": [
    "# perimeter of square (둘레)\n",
    "def perimeter(a):\n",
    "    return 4*a\n",
    "\n",
    "# area of square\n",
    "def area(a):\n",
    "    return a*a\n",
    "\n",
    "x = input(\"Type a function: ex) area(a) \")\n",
    "for a in range(1,8):\n",
    "    if (x == 'perimeter(a)'):\n",
    "        print(\"Length = \", a, \"perimeter = \", eval(x))\n",
    "    elif (x == 'area(a)'):\n",
    "        print(\"Area = \", a, \"perimeter = \", eval(x))\n",
    "    else:\n",
    "        print(\"Wrong Function. Try again.\")\n",
    "        break"
   ]
  },
  {
   "cell_type": "code",
   "execution_count": null,
   "id": "c852f86b-6bf2-4054-9394-dbb1e3385520",
   "metadata": {},
   "outputs": [],
   "source": [
    "# append() : to the end \n",
    "# extend() : the the end\n",
    "# insert() : specific position\n",
    "# pop() : the last\n",
    "# list.remove('element') : \n"
   ]
  },
  {
   "cell_type": "code",
   "execution_count": null,
   "id": "0345620d-e308-41f4-9cfb-15d5103932af",
   "metadata": {},
   "outputs": [],
   "source": []
  },
  {
   "cell_type": "code",
   "execution_count": 15,
   "id": "f8917adc-5bf5-409d-b4d5-06447f9de832",
   "metadata": {},
   "outputs": [
    {
     "name": "stdin",
     "output_type": "stream",
     "text": [
      "Number:  12\n",
      " insert 0 5\n",
      " insert 1 10\n",
      " insert 0 6\n",
      " print\n"
     ]
    },
    {
     "name": "stdout",
     "output_type": "stream",
     "text": [
      "[6, 5, 10]\n"
     ]
    },
    {
     "name": "stdin",
     "output_type": "stream",
     "text": [
      " remove 6 \n",
      " append 9\n",
      " append 1\n",
      " sort\n",
      " print\n"
     ]
    },
    {
     "name": "stdout",
     "output_type": "stream",
     "text": [
      "[1, 5, 9, 10]\n"
     ]
    },
    {
     "name": "stdin",
     "output_type": "stream",
     "text": [
      " pop\n",
      " reverse\n",
      " print\n"
     ]
    },
    {
     "name": "stdout",
     "output_type": "stream",
     "text": [
      "[9, 5, 1]\n"
     ]
    }
   ],
   "source": [
    "n = int(input(\"Number of commands: \"))\n",
    "l = []\n",
    "for _ in range(n):\n",
    "    s = input(\"Command: \").split()\n",
    "    command = s[0]\n",
    "    argument = s[1:]\n",
    "    if command != \"print\":\n",
    "        command += \"(\"+ \",\".join(argument) +\")\"\n",
    "        #l.insert(1,10)\n",
    "        eval(\"l.\"+ command)\n",
    "    else: \n",
    "        print(l)"
   ]
  },
  {
   "cell_type": "code",
   "execution_count": null,
   "id": "a5a86f68-43a6-40e3-8983-7fd405376d7d",
   "metadata": {},
   "outputs": [],
   "source": [
    "# .join() : takes all item in an interable & joins them into one string(SEPARATOR)\n",
    "# string.join(iterable)"
   ]
  },
  {
   "cell_type": "code",
   "execution_count": 16,
   "id": "bcfb3942-a17a-4415-bf4f-1fee3052aae2",
   "metadata": {},
   "outputs": [
    {
     "name": "stdout",
     "output_type": "stream",
     "text": [
      "Coco#CocoFat#CocoNut\n"
     ]
    }
   ],
   "source": [
    "t = (\"Coco\", \"CocoFat\", \"CocoNut\")\n",
    "x = \"#\".join(t)\n",
    "print(x)"
   ]
  },
  {
   "cell_type": "markdown",
   "id": "f4d52782-51ef-4b25-931f-6bbbc2f0936d",
   "metadata": {},
   "source": [
    "# Strings_sWAP_cASE"
   ]
  },
  {
   "cell_type": "code",
   "execution_count": 6,
   "id": "b7dfb8c0-5646-4e16-b885-c35f28cf020f",
   "metadata": {},
   "outputs": [
    {
     "name": "stdin",
     "output_type": "stream",
     "text": [
      "  SwapCase\n"
     ]
    },
    {
     "name": "stdout",
     "output_type": "stream",
     "text": [
      "sWAPcASE\n"
     ]
    }
   ],
   "source": [
    "def swap_case(s):\n",
    "    return s.swapcase()\n",
    "\n",
    "s = (input(\" \"))\n",
    "\n",
    "print(swap_case(s))\n"
   ]
  },
  {
   "cell_type": "markdown",
   "id": "62f2301a-c3ff-4327-813b-7372137e9d66",
   "metadata": {},
   "source": [
    "# String: Split() Join()"
   ]
  },
  {
   "cell_type": "code",
   "execution_count": 19,
   "id": "22644fd0-8ae4-43e1-b347-eea9975bb1ba",
   "metadata": {},
   "outputs": [
    {
     "name": "stdin",
     "output_type": "stream",
     "text": [
      "  this is a str\n"
     ]
    },
    {
     "name": "stdout",
     "output_type": "stream",
     "text": [
      "['this', 'is', 'a', 'str']\n",
      "this-is-a-str\n"
     ]
    }
   ],
   "source": [
    "x = input(\" \")\n",
    "x = x.split(\" \")\n",
    "y = \"-\".join(x)\n",
    "print(x)\n",
    "print(y)"
   ]
  },
  {
   "cell_type": "code",
   "execution_count": 28,
   "id": "86bd1da3-cace-424b-a93a-d8c93aa30387",
   "metadata": {},
   "outputs": [
    {
     "name": "stdin",
     "output_type": "stream",
     "text": [
      "  welcome to the jungle\n"
     ]
    },
    {
     "ename": "AttributeError",
     "evalue": "'list' object has no attribute 'join'",
     "output_type": "error",
     "traceback": [
      "\u001b[1;31m---------------------------------------------------------------------------\u001b[0m",
      "\u001b[1;31mAttributeError\u001b[0m                            Traceback (most recent call last)",
      "\u001b[1;32m<ipython-input-28-8ef9161decc7>\u001b[0m in \u001b[0;36m<module>\u001b[1;34m\u001b[0m\n\u001b[0;32m      1\u001b[0m \u001b[0ma\u001b[0m \u001b[1;33m=\u001b[0m \u001b[0minput\u001b[0m\u001b[1;33m(\u001b[0m\u001b[1;34m\" \"\u001b[0m\u001b[1;33m)\u001b[0m\u001b[1;33m\u001b[0m\u001b[1;33m\u001b[0m\u001b[0m\n\u001b[1;32m----> 2\u001b[1;33m \u001b[0ma\u001b[0m \u001b[1;33m=\u001b[0m\u001b[0ma\u001b[0m\u001b[1;33m.\u001b[0m\u001b[0msplit\u001b[0m\u001b[1;33m(\u001b[0m\u001b[1;33m)\u001b[0m\u001b[1;33m.\u001b[0m\u001b[0mjoin\u001b[0m\u001b[1;33m(\u001b[0m\u001b[1;33m)\u001b[0m\u001b[1;33m\u001b[0m\u001b[1;33m\u001b[0m\u001b[0m\n\u001b[0m\u001b[0;32m      3\u001b[0m \u001b[0mprint\u001b[0m\u001b[1;33m(\u001b[0m\u001b[0ma\u001b[0m\u001b[1;33m)\u001b[0m\u001b[1;33m\u001b[0m\u001b[1;33m\u001b[0m\u001b[0m\n",
      "\u001b[1;31mAttributeError\u001b[0m: 'list' object has no attribute 'join'"
     ]
    }
   ],
   "source": [
    "a = input(\" \")\n",
    "a =a.split()\n",
    "print(a)"
   ]
  },
  {
   "cell_type": "code",
   "execution_count": 36,
   "id": "5a81c172-6a63-438b-8858-16c291f7bffd",
   "metadata": {},
   "outputs": [
    {
     "name": "stdin",
     "output_type": "stream",
     "text": [
      " this is a str\n"
     ]
    },
    {
     "name": "stdout",
     "output_type": "stream",
     "text": [
      "this-is-a-str\n"
     ]
    }
   ],
   "source": [
    "# split() AND join()\n",
    "print(\"-\".join(input(\"\").split()))"
   ]
  },
  {
   "cell_type": "code",
   "execution_count": 37,
   "id": "a11ab215-fab5-4846-9ecd-96411b8c98e0",
   "metadata": {},
   "outputs": [
    {
     "name": "stdin",
     "output_type": "stream",
     "text": [
      " this is a str\n"
     ]
    },
    {
     "name": "stdout",
     "output_type": "stream",
     "text": [
      "['this', 'is', 'a', 'str']\n"
     ]
    }
   ],
   "source": [
    "print(input(\"\").split())"
   ]
  },
  {
   "cell_type": "code",
   "execution_count": 38,
   "id": "2ef6931f-0f5b-4a45-a2fe-f63572a04c1d",
   "metadata": {},
   "outputs": [
    {
     "name": "stdin",
     "output_type": "stream",
     "text": [
      " this is a str\n"
     ]
    },
    {
     "name": "stdout",
     "output_type": "stream",
     "text": [
      "this-is-a-str\n"
     ]
    }
   ],
   "source": [
    "print(input(\"\").replace(\" \",\"-\"))"
   ]
  },
  {
   "cell_type": "markdown",
   "id": "96742af8-13e1-410c-8419-9948e8eaf644",
   "metadata": {},
   "source": [
    "# what's your name"
   ]
  },
  {
   "cell_type": "code",
   "execution_count": 50,
   "id": "325bcedf-71eb-466e-bcaf-08ec68e8e714",
   "metadata": {},
   "outputs": [
    {
     "name": "stdin",
     "output_type": "stream",
     "text": [
      "First_name:  nando\n",
      "Last_name:  mango\n"
     ]
    },
    {
     "name": "stdout",
     "output_type": "stream",
     "text": [
      "Hello nandomango! You just delved into python.\n"
     ]
    }
   ],
   "source": [
    "first = input(\"First_name: \")\n",
    "last = input(\"Last_name: \")\n",
    "print(\"Hello \"+ first, last + \"!\" + \" You just delved into python.\")"
   ]
  },
  {
   "cell_type": "code",
   "execution_count": 45,
   "id": "245cc43d-b9a4-40e0-8765-0785f56048d6",
   "metadata": {},
   "outputs": [
    {
     "name": "stdout",
     "output_type": "stream",
     "text": [
      "Hello cpcp mamdp! You just delved into python.\n"
     ]
    }
   ],
   "source": [
    "print(\"Hello\", first, last+\"!\",\"You just delved into python.\")"
   ]
  },
  {
   "cell_type": "code",
   "execution_count": 48,
   "id": "710acfa1-eea6-4782-932d-068105a66b38",
   "metadata": {},
   "outputs": [
    {
     "name": "stdin",
     "output_type": "stream",
     "text": [
      " nando\n",
      " mango\n"
     ]
    },
    {
     "name": "stdout",
     "output_type": "stream",
     "text": [
      "Hello nando mango! You just delved into python.\n"
     ]
    }
   ],
   "source": [
    "def print_full_name(first, last):\n",
    "    print(\"Hello \"+ first, last + \"!\" + \" You just delved into python.\")\n",
    "\n",
    "if __name__ == '__main__':\n",
    "    first_name = input()\n",
    "    last_name = input()\n",
    "    print_full_name(first_name, last_name)"
   ]
  },
  {
   "cell_type": "markdown",
   "id": "70e308fa-51bc-4810-beb5-13cb056732fa",
   "metadata": {},
   "source": [
    "# Mutations"
   ]
  },
  {
   "cell_type": "code",
   "execution_count": null,
   "id": "143c3d45-ca66-4df5-90da-24c9d93fc28b",
   "metadata": {},
   "outputs": [],
   "source": [
    "# 1)List : ordered, mutable/changeable, duplicates\n",
    "# 2)Tuple : ordered, unchangeable, duplicates"
   ]
  },
  {
   "cell_type": "code",
   "execution_count": 51,
   "id": "a7eee73a-e3fc-422f-a15c-056f789cea51",
   "metadata": {},
   "outputs": [
    {
     "name": "stdout",
     "output_type": "stream",
     "text": [
      "d\n"
     ]
    }
   ],
   "source": [
    "str = \"abcdefg\"\n",
    "print(str[3])"
   ]
  },
  {
   "cell_type": "code",
   "execution_count": 52,
   "id": "d3838f23-cef2-4b2c-a834-aef7a229499c",
   "metadata": {},
   "outputs": [
    {
     "ename": "TypeError",
     "evalue": "'str' object does not support item assignment",
     "output_type": "error",
     "traceback": [
      "\u001b[1;31m---------------------------------------------------------------------------\u001b[0m",
      "\u001b[1;31mTypeError\u001b[0m                                 Traceback (most recent call last)",
      "\u001b[1;32m<ipython-input-52-7b537b4bb566>\u001b[0m in \u001b[0;36m<module>\u001b[1;34m\u001b[0m\n\u001b[0;32m      1\u001b[0m \u001b[1;31m# assign value\u001b[0m\u001b[1;33m\u001b[0m\u001b[1;33m\u001b[0m\u001b[1;33m\u001b[0m\u001b[0m\n\u001b[1;32m----> 2\u001b[1;33m \u001b[0mstr\u001b[0m\u001b[1;33m[\u001b[0m\u001b[1;36m3\u001b[0m\u001b[1;33m]\u001b[0m \u001b[1;33m=\u001b[0m \u001b[1;34m'x'\u001b[0m\u001b[1;33m\u001b[0m\u001b[1;33m\u001b[0m\u001b[0m\n\u001b[0m\u001b[0;32m      3\u001b[0m \u001b[0mprint\u001b[0m\u001b[1;33m(\u001b[0m\u001b[0mstr\u001b[0m\u001b[1;33m[\u001b[0m\u001b[1;36m3\u001b[0m\u001b[1;33m]\u001b[0m\u001b[1;33m)\u001b[0m\u001b[1;33m\u001b[0m\u001b[1;33m\u001b[0m\u001b[0m\n",
      "\u001b[1;31mTypeError\u001b[0m: 'str' object does not support item assignment"
     ]
    }
   ],
   "source": [
    "# assign value : convert str -> list\n",
    "str[3] = 'x'\n",
    "print(str[3])"
   ]
  },
  {
   "cell_type": "code",
   "execution_count": 54,
   "id": "ef608b32-cd8f-4641-af62-578cfd051901",
   "metadata": {},
   "outputs": [
    {
     "name": "stdout",
     "output_type": "stream",
     "text": [
      "['a', 'b', 'c', 'x', 'e', 'f', 'g']\n",
      "abcxefg\n"
     ]
    }
   ],
   "source": [
    "l = list(str)\n",
    "l[3] = 'x'\n",
    "print(l)\n",
    "str = ''.join(l)\n",
    "print(str)"
   ]
  },
  {
   "cell_type": "code",
   "execution_count": 55,
   "id": "f78cc9e2-5848-492a-a1a4-87500848021d",
   "metadata": {},
   "outputs": [
    {
     "name": "stdout",
     "output_type": "stream",
     "text": [
      "abcyxefg\n"
     ]
    }
   ],
   "source": [
    "# slice str & join \n",
    "str = str[:3] + \"y\" + str[3:]\n",
    "print(str)"
   ]
  },
  {
   "cell_type": "code",
   "execution_count": 60,
   "id": "9c5874cd-35dc-45c4-84f6-d08cd2ffc879",
   "metadata": {},
   "outputs": [
    {
     "name": "stdin",
     "output_type": "stream",
     "text": [
      " abcdef\n",
      " 2 p\n"
     ]
    },
    {
     "name": "stdout",
     "output_type": "stream",
     "text": [
      "abpdef\n"
     ]
    }
   ],
   "source": [
    "def mutate_string(string, position, character):\n",
    "    return string[:position] + character + string[position+1:]\n",
    "\n",
    "if __name__ == '__main__':\n",
    "    s = input()\n",
    "    i, c = input().split()\n",
    "    s_new = mutate_string(s, int(i), c)\n",
    "    print(s_new)"
   ]
  },
  {
   "cell_type": "markdown",
   "id": "d38e1b9d-3d35-4440-a9c1-ce080cb44376",
   "metadata": {},
   "source": [
    "# Built-in Str Validators"
   ]
  },
  {
   "cell_type": "code",
   "execution_count": 61,
   "id": "9fae65d6-5619-496b-b712-c432c5f84440",
   "metadata": {},
   "outputs": [
    {
     "name": "stdout",
     "output_type": "stream",
     "text": [
      "True\n"
     ]
    }
   ],
   "source": [
    "# built-in methods\n",
    "print('ab123'.isalnum()) #alpha_numeric"
   ]
  },
  {
   "cell_type": "code",
   "execution_count": 64,
   "id": "30bd4053-0483-4ec7-adf0-18db8f34142c",
   "metadata": {},
   "outputs": [
    {
     "name": "stdout",
     "output_type": "stream",
     "text": [
      "False\n"
     ]
    }
   ],
   "source": [
    "print('#'.isalnum())"
   ]
  },
  {
   "cell_type": "code",
   "execution_count": 76,
   "id": "18f48e88-193e-423d-9b2c-39e1552b0469",
   "metadata": {},
   "outputs": [
    {
     "name": "stdout",
     "output_type": "stream",
     "text": [
      "True\n"
     ]
    }
   ],
   "source": [
    "print(\"qA5\".isalpha())"
   ]
  },
  {
   "cell_type": "code",
   "execution_count": 67,
   "id": "4ed1f97b-798f-474d-a59e-566e4e2612bc",
   "metadata": {},
   "outputs": [
    {
     "name": "stdout",
     "output_type": "stream",
     "text": [
      "False\n"
     ]
    }
   ],
   "source": [
    "print(\"0#\".isdigit())"
   ]
  },
  {
   "cell_type": "code",
   "execution_count": 66,
   "id": "b2be5cd9-cc97-4a4c-800c-5fc2749f918d",
   "metadata": {},
   "outputs": [
    {
     "name": "stdout",
     "output_type": "stream",
     "text": [
      "True\n"
     ]
    }
   ],
   "source": [
    "print(\"abc123%$\".islower())"
   ]
  },
  {
   "cell_type": "code",
   "execution_count": 68,
   "id": "88e61dfb-68aa-4bbf-900d-8e13c036de2c",
   "metadata": {},
   "outputs": [
    {
     "name": "stdout",
     "output_type": "stream",
     "text": [
      "True\n"
     ]
    }
   ],
   "source": [
    "print(\"ANC3%\".isupper())"
   ]
  },
  {
   "cell_type": "code",
   "execution_count": 85,
   "id": "e22bb884-5d04-45f3-8fec-5ad82e35bbec",
   "metadata": {},
   "outputs": [
    {
     "name": "stdin",
     "output_type": "stream",
     "text": [
      " s2Q\n"
     ]
    },
    {
     "name": "stdout",
     "output_type": "stream",
     "text": [
      "True\n",
      "False\n",
      "False\n",
      "False\n",
      "False\n"
     ]
    }
   ],
   "source": [
    "s = input(\"\")\n",
    "print(s.isalnum())\n",
    "print(s.isalpha())\n",
    "print(s.isdigit())\n",
    "print(s.islower())\n",
    "print(s.isupper())"
   ]
  },
  {
   "cell_type": "code",
   "execution_count": null,
   "id": "6e42466e-a92c-4f73-9792-5e48d83b522a",
   "metadata": {},
   "outputs": [],
   "source": [
    "# any() : returns True if any item in an iterable are true"
   ]
  },
  {
   "cell_type": "code",
   "execution_count": 91,
   "id": "e648ec3c-716a-465a-a2bb-792271ef0982",
   "metadata": {},
   "outputs": [
    {
     "name": "stdin",
     "output_type": "stream",
     "text": [
      " a2Q\n"
     ]
    },
    {
     "name": "stdout",
     "output_type": "stream",
     "text": [
      "True\n",
      "True\n",
      "True\n",
      "True\n",
      "True\n"
     ]
    }
   ],
   "source": [
    "str = input(\"\")\n",
    "print (any(c.isalnum()  for c in str))\n",
    "print (any(c.isalpha() for c in str))\n",
    "print (any(c.isdigit() for c in str))\n",
    "print (any(c.islower() for c in str))\n",
    "print (any(c.isupper() for c in str))"
   ]
  },
  {
   "cell_type": "markdown",
   "id": "ff3d36a0-e0d5-472c-a933-ccfeadc753df",
   "metadata": {},
   "source": [
    "# Text Alignment"
   ]
  },
  {
   "cell_type": "code",
   "execution_count": 98,
   "id": "966a6773-ef6b-49c8-acd3-8e8029752a3b",
   "metadata": {},
   "outputs": [
    {
     "name": "stdout",
     "output_type": "stream",
     "text": [
      "HackerRank##########\n"
     ]
    }
   ],
   "source": [
    "width = 20\n",
    "print('HackerRank'.ljust(width,'#'))"
   ]
  },
  {
   "cell_type": "code",
   "execution_count": 99,
   "id": "94ddf4db-b23b-4bdb-934b-c3276ed21242",
   "metadata": {},
   "outputs": [
    {
     "name": "stdout",
     "output_type": "stream",
     "text": [
      "----------HackerRank\n"
     ]
    }
   ],
   "source": [
    "print('HackerRank'.rjust(width,'-'))"
   ]
  },
  {
   "cell_type": "code",
   "execution_count": 100,
   "id": "fcd7ec23-736a-4790-a60c-d504664f8192",
   "metadata": {},
   "outputs": [
    {
     "name": "stdout",
     "output_type": "stream",
     "text": [
      "*****HackerRank*****\n"
     ]
    }
   ],
   "source": [
    "print('HackerRank'.center(width,'*'))"
   ]
  },
  {
   "cell_type": "code",
   "execution_count": 127,
   "id": "63dda9a6-10d4-460a-8125-171a14d334eb",
   "metadata": {},
   "outputs": [
    {
     "name": "stdin",
     "output_type": "stream",
     "text": [
      "Odd Num:  9\n"
     ]
    },
    {
     "name": "stdout",
     "output_type": "stream",
     "text": [
      "        H        \n",
      "       HHH       \n",
      "      HHHHH      \n",
      "     HHHHHHH     \n",
      "    HHHHHHHHH    \n",
      "   HHHHHHHHHHH   \n",
      "  HHHHHHHHHHHHH  \n",
      " HHHHHHHHHHHHHHH \n",
      "HHHHHHHHHHHHHHHHH\n",
      "    HHHHHHHHH                           HHHHHHHHH                       \n",
      "    HHHHHHHHH                           HHHHHHHHH                       \n",
      "    HHHHHHHHH                           HHHHHHHHH                       \n",
      "    HHHHHHHHH                           HHHHHHHHH                       \n",
      "    HHHHHHHHH                           HHHHHHHHH                       \n",
      "    HHHHHHHHH                           HHHHHHHHH                       \n",
      "    HHHHHHHHH                           HHHHHHHHH                       \n",
      "    HHHHHHHHH                           HHHHHHHHH                       \n",
      "    HHHHHHHHH                           HHHHHHHHH                       \n",
      "    HHHHHHHHH                           HHHHHHHHH                       \n",
      "    HHHHHHHHHHHHHHHHHHHHHHHHHHHHHHHHHHHHHHHHHHHHH     \n",
      "    HHHHHHHHHHHHHHHHHHHHHHHHHHHHHHHHHHHHHHHHHHHHH     \n",
      "    HHHHHHHHHHHHHHHHHHHHHHHHHHHHHHHHHHHHHHHHHHHHH     \n",
      "    HHHHHHHHHHHHHHHHHHHHHHHHHHHHHHHHHHHHHHHHHHHHH     \n",
      "    HHHHHHHHHHHHHHHHHHHHHHHHHHHHHHHHHHHHHHHHHHHHH     \n",
      "    HHHHHHHHH                           HHHHHHHHH                       \n",
      "    HHHHHHHHH                           HHHHHHHHH                       \n",
      "    HHHHHHHHH                           HHHHHHHHH                       \n",
      "    HHHHHHHHH                           HHHHHHHHH                       \n",
      "    HHHHHHHHH                           HHHHHHHHH                       \n",
      "    HHHHHHHHH                           HHHHHHHHH                       \n",
      "    HHHHHHHHH                           HHHHHHHHH                       \n",
      "    HHHHHHHHH                           HHHHHHHHH                       \n",
      "    HHHHHHHHH                           HHHHHHHHH                       \n",
      "    HHHHHHHHH                           HHHHHHHHH                       \n",
      "                                    HHHHHHHHHHHHHHHHH \n",
      "                                     HHHHHHHHHHHHHHH  \n",
      "                                      HHHHHHHHHHHHH   \n",
      "                                       HHHHHHHHHHH    \n",
      "                                        HHHHHHHHH     \n",
      "                                         HHHHHHH      \n",
      "                                          HHHHH       \n",
      "                                           HHH        \n",
      "                                            H         \n"
     ]
    }
   ],
   "source": [
    "thickness = int(input(\"Odd Num: \"))\n",
    "c = 'H'\n",
    "\n",
    "#Top Cone\n",
    "for i in range(thickness):\n",
    "    print((c*i).rjust(thickness-1)+c+(c*i).ljust(thickness-1))\n",
    "\n",
    "#Top Pillars\n",
    "for i in range(thickness+1):\n",
    "    print((c*thickness).center(thickness*2)+(c*thickness).center(thickness*6))\n",
    "\n",
    "#Middle Belt\n",
    "for i in range((thickness+1)//2):\n",
    "    print((c*thickness*5).center(thickness*6))    \n",
    "\n",
    "#Bottom Pillars\n",
    "for i in range(thickness+1):\n",
    "    print((c*thickness).center(thickness*2)+(c*thickness).center(thickness*6))    \n",
    "\n",
    "#Bottom Cone\n",
    "for i in range(thickness):\n",
    "    print(((c*(thickness-i-1)).rjust(thickness)+c+(c*(thickness-i-1)).ljust(thickness)).rjust(thickness*6))"
   ]
  },
  {
   "cell_type": "markdown",
   "id": "7e8c4a7f-2039-45ee-8e23-d09387813c3c",
   "metadata": {},
   "source": [
    "# Text Wrap"
   ]
  },
  {
   "cell_type": "code",
   "execution_count": 129,
   "id": "c551e7d9-111e-4390-99fa-a0496c11a588",
   "metadata": {},
   "outputs": [
    {
     "name": "stdin",
     "output_type": "stream",
     "text": [
      " ASCDFDFEFEFE\n",
      " 2\n"
     ]
    },
    {
     "name": "stdout",
     "output_type": "stream",
     "text": [
      "AS\n",
      "CD\n",
      "FD\n",
      "FE\n",
      "FE\n",
      "FE\n"
     ]
    }
   ],
   "source": [
    "import textwrap\n",
    "\n",
    "def wrap(string, max_width):\n",
    "    return textwrap.fill(string, max_width)\n",
    "\n",
    "if __name__ == '__main__':\n",
    "    string, max_width = input(), int(input())\n",
    "    result = wrap(string, max_width)\n",
    "    print(result)"
   ]
  },
  {
   "cell_type": "markdown",
   "id": "2cbdde50-fce2-4f50-be04-57385a22a6e6",
   "metadata": {},
   "source": [
    "# Desinger Door Mat"
   ]
  },
  {
   "cell_type": "code",
   "execution_count": 132,
   "id": "4d631be6-bdb0-4e81-8e44-c04fc72248f1",
   "metadata": {},
   "outputs": [
    {
     "name": "stdin",
     "output_type": "stream",
     "text": [
      "  9 27\n"
     ]
    },
    {
     "name": "stdout",
     "output_type": "stream",
     "text": [
      "------------.|.------------\n",
      "---------.|..|..|.---------\n",
      "------.|..|..|..|..|.------\n",
      "---.|..|..|..|..|..|..|.---\n",
      "----------WELCOME----------\n",
      "---.|..|..|..|..|..|..|.---\n",
      "------.|..|..|..|..|.------\n",
      "---------.|..|..|.---------\n",
      "------------.|.------------\n"
     ]
    }
   ],
   "source": [
    "N, M = map(int,input(\" \").split())\n",
    "\n",
    "# range(start, stop, step)\n",
    "for i in range(1,N,2): \n",
    "    print((i * \".|.\").center(M, \"-\"))   \n",
    "    # N=9 M=27\n",
    "    # i range(1,9,2) => 1,3,5,7\n",
    "    # i=1 :          .|.\n",
    "    # 1=3 :       .|..|..|.\n",
    "    # i=5 :    .|..|..|..|..|.\n",
    "    # i=7 :   .|..|..|..|..|..|..|.\n",
    "    \n",
    "print(\"WELCOME\".center(M,\"-\"))\n",
    "    #             WELCOME\n",
    "\n",
    "for i in range(N-2,-1,-2): \n",
    "    print((i * \".|.\").center(M, \"-\"))  \n",
    "    # N=9 M=27\n",
    "    # i : (7,-1,-2) => 7,5,3,1 => upside-down"
   ]
  },
  {
   "cell_type": "code",
   "execution_count": 133,
   "id": "a6f19cbb-b20d-4f5e-9e63-e47172a75ca7",
   "metadata": {},
   "outputs": [
    {
     "name": "stdout",
     "output_type": "stream",
     "text": [
      "1\n",
      "3\n",
      "5\n",
      "7\n"
     ]
    }
   ],
   "source": [
    "x = range(1, 9, 2)\n",
    "\n",
    "for n in x:\n",
    "  print(n)"
   ]
  },
  {
   "cell_type": "code",
   "execution_count": 134,
   "id": "348db86e-1d64-4415-8fcd-12b6d0c8338f",
   "metadata": {},
   "outputs": [
    {
     "name": "stdout",
     "output_type": "stream",
     "text": [
      "7\n",
      "5\n",
      "3\n",
      "1\n"
     ]
    }
   ],
   "source": [
    "x = range(7,-1,-2)\n",
    "\n",
    "for n in x:\n",
    "  print(n)"
   ]
  },
  {
   "cell_type": "markdown",
   "id": "2e3a028a-d805-4408-8644-d027769e84da",
   "metadata": {},
   "source": [
    "# Str Formatting"
   ]
  },
  {
   "cell_type": "code",
   "execution_count": 182,
   "id": "6b6e5066-a143-4288-9465-21a38ff02d9c",
   "metadata": {},
   "outputs": [
    {
     "name": "stdin",
     "output_type": "stream",
     "text": [
      " 21\n"
     ]
    },
    {
     "name": "stdout",
     "output_type": "stream",
     "text": [
      "1 1 1 1\n",
      "2 2 2 10\n",
      "3 3 3 11\n",
      "4 4 4 100\n",
      "5 5 5 101\n",
      "6 6 6 110\n",
      "7 7 7 111\n",
      "8 10 8 1000\n",
      "9 11 9 1001\n",
      "10 12 A 1010\n",
      "11 13 B 1011\n",
      "12 14 C 1100\n",
      "13 15 D 1101\n",
      "14 16 E 1110\n",
      "15 17 F 1111\n",
      "16 20 10 10000\n",
      "17 21 11 10001\n",
      "18 22 12 10010\n",
      "19 23 13 10011\n",
      "20 24 14 10100\n",
      "21 25 15 10101\n"
     ]
    }
   ],
   "source": [
    "n = int(input(\"\"))\n",
    "\n",
    "for i in range(1,n+1):\n",
    "    print(i, \n",
    "          oct(i).replace('0o',''), \n",
    "           hex(i).upper().replace('0X',''), \n",
    "           bin(i).replace('0b',''))"
   ]
  },
  {
   "cell_type": "code",
   "execution_count": 193,
   "id": "29f7f0d1-30e5-4180-8329-d9a46a137c9f",
   "metadata": {},
   "outputs": [
    {
     "name": "stdin",
     "output_type": "stream",
     "text": [
      "  21\n"
     ]
    },
    {
     "ename": "AttributeError",
     "evalue": "'int' object has no attribute 'txt'",
     "output_type": "error",
     "traceback": [
      "\u001b[1;31m---------------------------------------------------------------------------\u001b[0m",
      "\u001b[1;31mAttributeError\u001b[0m                            Traceback (most recent call last)",
      "\u001b[1;32m<ipython-input-193-a964c4db5116>\u001b[0m in \u001b[0;36m<module>\u001b[1;34m\u001b[0m\n\u001b[0;32m      3\u001b[0m \u001b[1;33m\u001b[0m\u001b[0m\n\u001b[0;32m      4\u001b[0m \u001b[1;32mfor\u001b[0m \u001b[0mi\u001b[0m \u001b[1;32min\u001b[0m \u001b[0mrange\u001b[0m\u001b[1;33m(\u001b[0m\u001b[1;36m1\u001b[0m\u001b[1;33m,\u001b[0m \u001b[0mn\u001b[0m\u001b[1;33m+\u001b[0m\u001b[1;36m1\u001b[0m\u001b[1;33m)\u001b[0m\u001b[1;33m:\u001b[0m\u001b[1;33m\u001b[0m\u001b[1;33m\u001b[0m\u001b[0m\n\u001b[1;32m----> 5\u001b[1;33m     \u001b[0mprint\u001b[0m\u001b[1;33m(\u001b[0m\u001b[0mi\u001b[0m\u001b[1;33m.\u001b[0m\u001b[0mtxt\u001b[0m\u001b[1;33m.\u001b[0m\u001b[0mformat\u001b[0m\u001b[1;33m(\u001b[0m\u001b[0mn\u001b[0m\u001b[1;33m)\u001b[0m\u001b[1;33m)\u001b[0m\u001b[1;33m\u001b[0m\u001b[1;33m\u001b[0m\u001b[0m\n\u001b[0m",
      "\u001b[1;31mAttributeError\u001b[0m: 'int' object has no attribute 'txt'"
     ]
    }
   ],
   "source": [
    "n = int(input(\" \"))\n",
    "txt = \"{0} {0:o} {0:X} {0:b}\"\n",
    "\n",
    "for i in range(1, n+1):\n",
    "    print(i.txt.format(n))"
   ]
  },
  {
   "cell_type": "code",
   "execution_count": null,
   "id": "a6246a7f-e20f-4412-8e64-9492c5b3cdf8",
   "metadata": {},
   "outputs": [],
   "source": [
    "# 1)List : ordered, changeable, duplicates\n",
    "# 2)Tuple : ordered, unchangeable, duplicates"
   ]
  },
  {
   "cell_type": "code",
   "execution_count": 168,
   "id": "02311a20-c523-4785-82d1-25f498fe8fdf",
   "metadata": {},
   "outputs": [
    {
     "name": "stdin",
     "output_type": "stream",
     "text": [
      "  9\n"
     ]
    },
    {
     "name": "stdout",
     "output_type": "stream",
     "text": [
      "                   1\n",
      "                  10\n",
      "                  11\n",
      "                 100\n",
      "                 101\n",
      "                 110\n",
      "                 111\n",
      "                1000\n",
      "                1001\n"
     ]
    }
   ],
   "source": [
    "n = int(input(\" \"))\n",
    "\n",
    "for i in range(1, n+1):\n",
    "    print(bin(i).replace('0b','').rjust(width, ' '))\n",
    "    \n",
    "#     result = \"{0:b}\"\n",
    "#     print(result.format(n)) "
   ]
  },
  {
   "cell_type": "code",
   "execution_count": null,
   "id": "dd0a61d9-d6ab-46fb-a1bf-5728cdd8b490",
   "metadata": {},
   "outputs": [],
   "source": []
  },
  {
   "cell_type": "code",
   "execution_count": null,
   "id": "18d5429f-cd39-4ecf-8650-5bbb26b7b521",
   "metadata": {},
   "outputs": [],
   "source": []
  },
  {
   "cell_type": "code",
   "execution_count": null,
   "id": "0a25ea5c-f3bd-4764-99b0-426f26243843",
   "metadata": {},
   "outputs": [],
   "source": []
  }
 ],
 "metadata": {
  "kernelspec": {
   "display_name": "Python 3",
   "language": "python",
   "name": "python3"
  },
  "language_info": {
   "codemirror_mode": {
    "name": "ipython",
    "version": 3
   },
   "file_extension": ".py",
   "mimetype": "text/x-python",
   "name": "python",
   "nbconvert_exporter": "python",
   "pygments_lexer": "ipython3",
   "version": "3.7.10"
  }
 },
 "nbformat": 4,
 "nbformat_minor": 5
}
