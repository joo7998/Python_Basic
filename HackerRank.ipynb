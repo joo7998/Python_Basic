{
 "cells": [
  {
   "cell_type": "code",
   "execution_count": null,
   "id": "34065288-c766-4c50-9e73-e9181845e153",
   "metadata": {},
   "outputs": [],
   "source": [
    "n = int(input().strip())\n",
    "if n%2 == 0 and (n in range(2,6) or n>20):\n",
    "           # and (    )\n",
    "    print('Not Weird')\n",
    "else: print('Weird')"
   ]
  },
  {
   "cell_type": "code",
   "execution_count": null,
   "id": "8116cc3f-8816-4a58-aaf9-992743e7d299",
   "metadata": {},
   "outputs": [],
   "source": [
    "# raw_input()\n",
    "# input()"
   ]
  },
  {
   "cell_type": "code",
   "execution_count": null,
   "id": "5aaa5b70-df1c-465c-8fc7-5338189db403",
   "metadata": {},
   "outputs": [],
   "source": []
  },
  {
   "cell_type": "code",
   "execution_count": null,
   "id": "27bd892a-84fe-43f0-b449-d311e1806df2",
   "metadata": {},
   "outputs": [],
   "source": [
    "# STDIN(Standard Input)\n",
    "a = int(input())\n",
    "b = int(input())\n",
    "x = a + b\n",
    "y = a - b\n",
    "z = a * b\n",
    "print(x)\n",
    "print(y)\n",
    "print(z)"
   ]
  },
  {
   "cell_type": "code",
   "execution_count": null,
   "id": "9b6f4c29-498b-4f5b-9b1f-cd0bc053b473",
   "metadata": {},
   "outputs": [],
   "source": [
    "a = int(input())\n",
    "b = int(input())\n",
    "x = a//b\n",
    "y = a/b\n",
    "print(x)\n",
    "print(y)"
   ]
  },
  {
   "cell_type": "code",
   "execution_count": null,
   "id": "9f125dcf-9675-4201-8cca-0ddc6f8a2709",
   "metadata": {},
   "outputs": [],
   "source": [
    "n = int(input())\n",
    "for i in range(n):\n",
    "    print(i**2)"
   ]
  },
  {
   "cell_type": "code",
   "execution_count": null,
   "id": "3c333f18-5e75-4756-88b5-3e253b9eb92d",
   "metadata": {},
   "outputs": [],
   "source": [
    "n = int(input())\n",
    "print(*[i**2 for i in range(n)], sep='\\n') # dont undertand print(*[ ])\n",
    "\n",
    "# print(*objects, sep=' ', end='\\n', file=sys.stdout, flush=False)\n",
    "# Print objects to the text stream file, separated by sep and followed by end. sep, end, file and flush, if present, must be given as keyword arguments."
   ]
  },
  {
   "cell_type": "code",
   "execution_count": null,
   "id": "fbeffcf3-fe9c-4fe9-b217-b54eaab855a5",
   "metadata": {},
   "outputs": [],
   "source": [
    "def is_leap(year):\n",
    "    # if below is true => return TRUE ? \n",
    "    return year % 4 == 0 and (year % 100 != 0 or year % 400 == 0)\n",
    "                                            # or = unless ? EX: 800 year  \n",
    "year = int(input())\n",
    "print(is_leap(year))"
   ]
  },
  {
   "cell_type": "code",
   "execution_count": null,
   "id": "76d425e6-a257-4613-b20c-86171e53af98",
   "metadata": {},
   "outputs": [],
   "source": [
    "import calendar\n",
    "\n",
    "def is_leap(year):\n",
    "    return calendar.isleap(year) # built-in function \n",
    "\n",
    "year = int(input(\"Year: \"))\n",
    "print(is_leap(year))"
   ]
  },
  {
   "cell_type": "code",
   "execution_count": null,
   "id": "5d662fd1-9b1c-4df9-b5a5-1be218079ec8",
   "metadata": {},
   "outputs": [],
   "source": [
    "year = int(input(\"Year: \"))\n",
    "print(is_leap(year))"
   ]
  },
  {
   "cell_type": "code",
   "execution_count": null,
   "id": "73703e56-1632-47c7-881b-f88c9df896c1",
   "metadata": {},
   "outputs": [],
   "source": [
    "# num_leap yr within range\n",
    "calendar.leapdays(int(input(\"Year1: \")), int(input(\"Year2: \")))"
   ]
  },
  {
   "cell_type": "markdown",
   "id": "60402d79-e66b-460b-8d02-f2ae149e010d",
   "metadata": {},
   "source": [
    "# calendar"
   ]
  },
  {
   "cell_type": "code",
   "execution_count": null,
   "id": "48691169-ecc2-4e58-9f88-2b5869ebdea3",
   "metadata": {},
   "outputs": [],
   "source": [
    "import calendar \n",
    "print(calendar.month(int(input(\"Year: \")), int(input(\"Month: \")), 2, 1))"
   ]
  },
  {
   "cell_type": "code",
   "execution_count": null,
   "id": "9a34464b-2ca0-47f3-954b-694d0cde7be4",
   "metadata": {},
   "outputs": [],
   "source": [
    "print(calendar.month(2021, 9, 5, 3)) #(y,m, row width, column width)"
   ]
  },
  {
   "cell_type": "code",
   "execution_count": null,
   "id": "d302883d-d89e-40e8-b6c8-db2511b35630",
   "metadata": {},
   "outputs": [],
   "source": [
    "print(calendar.calendar(2021, 1, 1, 6, 3)) #(y,row width, column width, row width btw month, num_months in one row)"
   ]
  },
  {
   "cell_type": "code",
   "execution_count": null,
   "id": "254b0159-af9f-497c-b798-34133bf3abfb",
   "metadata": {},
   "outputs": [],
   "source": [
    "# return day of the week \n",
    "# 0 Mon, 1 Tue, 2 Wed, 3 Thu,,\n",
    "print(calendar.weekday(2021, 9, 27))"
   ]
  },
  {
   "cell_type": "code",
   "execution_count": null,
   "id": "5b240c9b-9450-408b-8b4d-3cc71e20f4ee",
   "metadata": {},
   "outputs": [],
   "source": [
    "print(calendar.weekheader(3))"
   ]
  },
  {
   "cell_type": "markdown",
   "id": "b90ae88f-dfd3-4275-beeb-2c1f3a9e447d",
   "metadata": {},
   "source": [
    "# Print in one single line "
   ]
  },
  {
   "cell_type": "code",
   "execution_count": null,
   "id": "d87e6f58-a3f6-41f8-b624-32e423d5285f",
   "metadata": {},
   "outputs": [],
   "source": [
    "for i in range(n+1):\n",
    "    print(i)"
   ]
  },
  {
   "cell_type": "code",
   "execution_count": null,
   "id": "7f88612c-cab7-4f0c-aa8e-332e7cb3be42",
   "metadata": {},
   "outputs": [],
   "source": [
    "import sys\n",
    "\n",
    "n = int(input(\"Enter a number: \"))\n",
    "for n in range(1, n+1):\n",
    "    sys.stdout.write(str(n))"
   ]
  },
  {
   "cell_type": "code",
   "execution_count": null,
   "id": "45b8d4ee-a326-420b-87f2-174dc6ce141d",
   "metadata": {},
   "outputs": [],
   "source": [
    "n = int(input(\"Enter a number: \"))\n",
    "for i in range(1, n+1):\n",
    "    print(i, end=' ')"
   ]
  },
  {
   "cell_type": "markdown",
   "id": "dbc791bf-7508-47d4-850c-a7698950a93b",
   "metadata": {},
   "source": [
    "# Find runner-up(2nd best) score"
   ]
  },
  {
   "cell_type": "code",
   "execution_count": null,
   "id": "2e00835b-d523-44b8-8235-497bf125f0ed",
   "metadata": {},
   "outputs": [],
   "source": [
    "n = input(\"Numner: \")\n",
    "l = list(map(int, input(\"List: \").split()))\n",
    "m = max(l)\n",
    "while max(l) == m:\n",
    "    l.remove(max(l))\n",
    "print(max(l))"
   ]
  },
  {
   "cell_type": "code",
   "execution_count": null,
   "id": "98ce25ce-aedc-4482-9df4-aa030d75cb44",
   "metadata": {},
   "outputs": [],
   "source": [
    "n = int(input(\"Num: \"))\n",
    "l = list(map(int, input(\"List: \").split()))\n",
    "m = max(l)\n",
    "while max(l) == m:\n",
    "    l.remove(max(l))\n",
    "print(max(l))"
   ]
  },
  {
   "cell_type": "markdown",
   "id": "435c0f5c-e2da-4596-bf50-f7b0d9b5f20b",
   "metadata": {},
   "source": [
    "# Python Collections (Arrays) : 4 data types\n",
    "\n",
    "# 1)List : ordered, changeable, duplicates\n",
    "# 2)Tuple : ordered, unchangeable, duplicates\n",
    "# 3)Set : unordered, unidexed, no duplicates\n",
    "# 4)Dict(key: value) : ordered(Python 3.7 above),, changeable, no duplicates"
   ]
  },
  {
   "cell_type": "code",
   "execution_count": null,
   "id": "a423caad-6563-49de-acaa-94e64d20a462",
   "metadata": {},
   "outputs": [],
   "source": [
    "# sorted \n",
    "\n",
    "a = [1, 6, 8, 9, 3, 2]\n",
    "x = sorted(a)\n",
    "print(x)"
   ]
  },
  {
   "cell_type": "code",
   "execution_count": null,
   "id": "f2119182-b018-479e-a43d-4f72d91b4de2",
   "metadata": {},
   "outputs": [],
   "source": [
    "# map ===> ***** print(list(map()))  *****\n",
    "\n",
    "def func(a):\n",
    "    return len(a)\n",
    "x = map(func, ('apple', 'watermelon'))\n",
    "print(x)\n",
    "print(list(x)) # convert map --> list : for readability  "
   ]
  },
  {
   "cell_type": "code",
   "execution_count": null,
   "id": "971e9aa2-bc2e-436d-88d2-994629692049",
   "metadata": {},
   "outputs": [],
   "source": [
    "# map()\n",
    "\n",
    "def add(n):\n",
    "    return n+n\n",
    "num = (1,2,3,4)\n",
    "result = map(add, num)\n",
    "# del list                    # del list variable from memory\n",
    "print(list(result))"
   ]
  },
  {
   "cell_type": "code",
   "execution_count": null,
   "id": "b0ee9ccc-8068-4922-ae9f-aa4005f3cab8",
   "metadata": {},
   "outputs": [],
   "source": [
    "# counter \n",
    "\n",
    "from collections import Counter\n",
    "\n",
    "counter = Counter(['a', 'a', 'b', 'b', 'b', 'c'])\n",
    "\n",
    "print(counter)\n",
    "print(counter.most_common())\n",
    "print([key for key, v in counter.most_common()])\n",
    "print(sorted(counter, key=counter.get, reverse=True))\n"
   ]
  },
  {
   "cell_type": "code",
   "execution_count": null,
   "id": "25144eff-1ef4-48e1-8431-b766f8ca6935",
   "metadata": {},
   "outputs": [],
   "source": [
    "# counter.keys() : to see the elements in the list\n",
    "\n",
    "from collections import Counter\n",
    "\n",
    "list = [1, 1, 2, 3, 4, 5, 6, 7, 8, 9, 2, 3, 4]\n",
    "\n",
    "# instatiating a Counter object \n",
    "object = Counter(list)\n",
    "\n",
    "# Counter.keys()\n",
    "keys = object.keys()\n",
    "\n",
    "print(\"DataType: \" + str(type(keys)))\n",
    "\n",
    "print(keys)\n",
    "\n",
    "for i in keys:\n",
    "    print(i)"
   ]
  },
  {
   "cell_type": "markdown",
   "id": "1752763f-f789-4ead-9865-7a151b085b03",
   "metadata": {},
   "source": [
    "# Nested Lists"
   ]
  },
  {
   "cell_type": "code",
   "execution_count": null,
   "id": "2492a704-7c95-4fae-bb13-f58b73a9c04d",
   "metadata": {},
   "outputs": [],
   "source": [
    "records = [[\"Nando\", 8], [\"Mango\", 9]]\n",
    "print(records)"
   ]
  },
  {
   "cell_type": "code",
   "execution_count": null,
   "id": "11afc1d4-0a1b-4420-b5c3-dd123205ceb2",
   "metadata": {},
   "outputs": [],
   "source": [
    "num = int(input(\"Enter a number of students: \"))\n",
    "records = [[]]\n",
    "\n",
    "for i in range(0, num):\n",
    "    record = input(\"Enter a name & score: \")\n",
    "    records.append(record.split())\n",
    "print(records)"
   ]
  },
  {
   "cell_type": "code",
   "execution_count": null,
   "id": "e880d4ee-ed6f-46b4-a600-2de6396b6247",
   "metadata": {},
   "outputs": [],
   "source": []
  },
  {
   "cell_type": "code",
   "execution_count": null,
   "id": "f8687409-f838-48a0-bb3f-85b6609ff577",
   "metadata": {},
   "outputs": [],
   "source": [
    "l.sort(key=lambda x:x[1])\n",
    "print(l)"
   ]
  },
  {
   "cell_type": "code",
   "execution_count": null,
   "id": "4730dbb5-4292-4174-9f3b-f15f58157ae1",
   "metadata": {},
   "outputs": [],
   "source": [
    "l.sort(key=lambda x:x[0])\n",
    "print(l)"
   ]
  },
  {
   "cell_type": "code",
   "execution_count": null,
   "id": "759f053a-9173-4c67-b82e-63b1e4154a15",
   "metadata": {
    "tags": []
   },
   "outputs": [],
   "source": [
    "n=int(input(\"Num_students: \"))\n",
    "arr=[[input(\"Name: \"),float(input(\"Score: \"))] for _ in range(0,n)]\n",
    "print(arr)\n",
    "\n",
    "arr.sort(key=lambda x: (x[1],x[0]))\n",
    "print(arr)\n",
    "\n",
    "# [[0,1], [0,1], [0,1]]\n",
    "names = [i[0] for i in arr]\n",
    "marks = [i[1] for i in arr]\n",
    "print(marks)\n",
    "\n",
    "# min name & marks removed from arr \n",
    "min_val=min(marks)\n",
    "while marks[0]==min_val:\n",
    "    marks.remove(marks[0])\n",
    "    names.remove(names[0])\n",
    "\n",
    "print(marks)\n",
    "print(len(marks)) # num_marks in [] list\n",
    "    \n",
    "for x in range(0,len(marks)):\n",
    "    if marks[x]==min(marks):\n",
    "        print(\"Second lowest: \" + names[x])\n"
   ]
  },
  {
   "cell_type": "markdown",
   "id": "8b3795b2-f7ff-4a4f-a91e-1877fd70db9a",
   "metadata": {},
   "source": [
    "# Finding the percentrage "
   ]
  },
  {
   "cell_type": "code",
   "execution_count": null,
   "id": "d146f572-f3bf-4060-a683-eabb35a3f8bc",
   "metadata": {},
   "outputs": [],
   "source": [
    "# Dict{key: value} : ordered(Python 3.7 above),, changeable, no duplicates"
   ]
  },
  {
   "cell_type": "code",
   "execution_count": null,
   "id": "18cd95f5-8c56-4ee7-867c-25ee6b489d7b",
   "metadata": {},
   "outputs": [],
   "source": [
    "# print(\"{:.2f}\".format(32.3567))"
   ]
  },
  {
   "cell_type": "code",
   "execution_count": null,
   "id": "2df55f6a-fa11-486d-ac39-805944611ec3",
   "metadata": {},
   "outputs": [],
   "source": [
    "n = int(input(\"Number of students: \"))\n",
    "student_marks = {}\n",
    "for i in range(n): \n",
    "    name, *line = input().split() \n",
    "    # *line : split() ==> name(1st word) <--> line(student_marks)\n",
    "    scores = list(map(float, line))\n",
    "    student_marks[name] = scores\n",
    "query_name = input(\"Pick a name for avg marks: \")\n",
    "\n",
    "print(format(sum(student_marks[query_name])/len(student_marks[query_name]), \".2f\"))"
   ]
  },
  {
   "cell_type": "code",
   "execution_count": null,
   "id": "77a42819-ab29-4487-82c2-7381e7fcc6d1",
   "metadata": {},
   "outputs": [],
   "source": [
    "print(scores)\n",
    "print(student_marks[name])"
   ]
  },
  {
   "cell_type": "code",
   "execution_count": null,
   "id": "71fa97d8-7bad-4f7f-b812-55adf97ea054",
   "metadata": {},
   "outputs": [],
   "source": [
    "print(student_marks[query_name])"
   ]
  },
  {
   "cell_type": "code",
   "execution_count": null,
   "id": "a43910c6-b7f8-4569-9d0f-a0394237bd5b",
   "metadata": {},
   "outputs": [],
   "source": [
    "# *line (UNPACKING OPERATOR)\n",
    "\n",
    "x = 'a b c d e'\n",
    "name, *line = x.split()\n",
    "print(name)\n",
    "print(line)"
   ]
  },
  {
   "cell_type": "markdown",
   "id": "291b680a-16d3-4376-af84-c9b69ee7b557",
   "metadata": {},
   "source": [
    "# List Comprehensions"
   ]
  },
  {
   "cell_type": "code",
   "execution_count": null,
   "id": "f192510a-191b-407c-baec-593940d55427",
   "metadata": {},
   "outputs": [],
   "source": [
    "# loop X , list comprehensions \n",
    "\n",
    "# lexicographic increasing numerical order : numbers read left to right\n",
    "# cuboid  != square\n",
    "# cubic = square , 3D"
   ]
  },
  {
   "cell_type": "code",
   "execution_count": 7,
   "id": "fb29c111-e499-4a51-8cf6-cb59f7fe5a8d",
   "metadata": {},
   "outputs": [
    {
     "name": "stdin",
     "output_type": "stream",
     "text": [
      "x:  2\n",
      "y:  2\n",
      "z:  2\n",
      "n:  2\n"
     ]
    }
   ],
   "source": [
    "x = int(input(\"x: \"))\n",
    "y = int(input(\"y: \"))\n",
    "z = int(input(\"z: \"))\n",
    "n = int(input(\"n: \"))"
   ]
  },
  {
   "cell_type": "code",
   "execution_count": 8,
   "id": "32fb5e15-08a7-4aa5-aafd-ab89be12dbc4",
   "metadata": {},
   "outputs": [
    {
     "name": "stdout",
     "output_type": "stream",
     "text": [
      "[[0, 0, 0], [0, 0, 1], [0, 1, 0], [0, 1, 2], [0, 2, 1], [0, 2, 2], [1, 0, 0], [1, 0, 2], [1, 1, 1], [1, 1, 2], [1, 2, 0], [1, 2, 1], [1, 2, 2], [2, 0, 1], [2, 0, 2], [2, 1, 0], [2, 1, 1], [2, 1, 2], [2, 2, 0], [2, 2, 1], [2, 2, 2]]\n"
     ]
    }
   ],
   "source": [
    "print([[i,j,k]\n",
    "         for i in range(0, x+1) \n",
    "           for j in range(0, y+1) \n",
    "               for k in range(0, z+1)\n",
    "                 if i+j+k != n])"
   ]
  },
  {
   "cell_type": "code",
   "execution_count": null,
   "id": "f7912d2e-39cb-4f70-8893-d2764f923d07",
   "metadata": {},
   "outputs": [],
   "source": [
    "print([[x,y] \n",
    "       for x in [1,2,3] \n",
    "           for y in [4,5,6]])"
   ]
  },
  {
   "cell_type": "markdown",
   "id": "3c503f5e-e542-4cc6-be9c-9412d677ab3f",
   "metadata": {},
   "source": [
    "# Tuples"
   ]
  },
  {
   "cell_type": "code",
   "execution_count": null,
   "id": "daf03ea5-cb30-4351-90ec-1d8c92ac9624",
   "metadata": {},
   "outputs": [],
   "source": [
    "# orderd, unchangeable, duplicates"
   ]
  },
  {
   "cell_type": "code",
   "execution_count": 18,
   "id": "d258254d-0359-40a5-bdef-6de36282716d",
   "metadata": {},
   "outputs": [
    {
     "name": "stdout",
     "output_type": "stream",
     "text": [
      "<class 'tuple'>\n",
      "('x', 'y', 'k')\n",
      "3\n"
     ]
    }
   ],
   "source": [
    "x = (\"x\", \"y\", \"k\")\n",
    "print(type(x))\n",
    "print(x)\n",
    "print(len(x))"
   ]
  },
  {
   "cell_type": "code",
   "execution_count": 20,
   "id": "61e7fa42-40c2-45f0-b165-8d0f6cd4aaa7",
   "metadata": {},
   "outputs": [
    {
     "name": "stdout",
     "output_type": "stream",
     "text": [
      "<class 'tuple'>\n",
      "('z',)\n"
     ]
    }
   ],
   "source": [
    "y = (\"z\",)\n",
    "print(type(y))\n",
    "print(y)"
   ]
  },
  {
   "cell_type": "code",
   "execution_count": 23,
   "id": "86d135b5-4961-4a33-bee3-ae0396551cf0",
   "metadata": {},
   "outputs": [
    {
     "name": "stdout",
     "output_type": "stream",
     "text": [
      "(1, 2, 3, 4)\n",
      "(True, False, True)\n",
      "('apple', 'mango')\n"
     ]
    }
   ],
   "source": [
    "t1 = 1,2,3,4\n",
    "t2 = (True, False, True)\n",
    "t3 = \"apple\", \"mango\"\n",
    "\n",
    "print(t1)\n",
    "print(t2)\n",
    "print(t3)"
   ]
  },
  {
   "cell_type": "code",
   "execution_count": 25,
   "id": "672571fc-ff67-4984-9ffc-6a98cabebffb",
   "metadata": {},
   "outputs": [
    {
     "name": "stdout",
     "output_type": "stream",
     "text": [
      "('abc', 5, False)\n"
     ]
    }
   ],
   "source": [
    "t4 = \"abc\", 5, False\n",
    "print(t4)"
   ]
  },
  {
   "cell_type": "code",
   "execution_count": 14,
   "id": "aa22401b-1c41-4604-84d9-8c8e67edf973",
   "metadata": {},
   "outputs": [
    {
     "name": "stdin",
     "output_type": "stream",
     "text": [
      "Num:  2\n",
      "List:  1 2\n"
     ]
    }
   ],
   "source": [
    "n = int(input(\"Num: \"))\n",
    "list = map(int, input(\"List: \").split())"
   ]
  },
  {
   "cell_type": "code",
   "execution_count": 15,
   "id": "f871b6bd-da95-4b1c-9770-e0ec6d2254cb",
   "metadata": {},
   "outputs": [
    {
     "name": "stdout",
     "output_type": "stream",
     "text": [
      "<map object at 0x00000221B05F9D88>\n"
     ]
    }
   ],
   "source": [
    "print(list)"
   ]
  },
  {
   "cell_type": "code",
   "execution_count": 16,
   "id": "1bd85d21-7da8-4da8-b4b5-9efdf72a7cec",
   "metadata": {},
   "outputs": [
    {
     "name": "stdout",
     "output_type": "stream",
     "text": [
      "3713081631934410656\n"
     ]
    }
   ],
   "source": [
    "t = tuple(list)\n",
    "print(hash(t))"
   ]
  },
  {
   "cell_type": "markdown",
   "id": "e1f694c5-82e0-4c4a-b865-6d0301838c0d",
   "metadata": {},
   "source": [
    "# numpy"
   ]
  },
  {
   "cell_type": "code",
   "execution_count": 26,
   "id": "dae5fb02-0962-4d60-b414-7cc36ea33394",
   "metadata": {},
   "outputs": [
    {
     "name": "stdout",
     "output_type": "stream",
     "text": [
      "11\n"
     ]
    }
   ],
   "source": [
    "import numpy as np\n",
    "a = np.array([1,2])\n",
    "b = np.array([3,4])\n",
    "print(np.dot(a,b)) # 1*3 + 2*4"
   ]
  },
  {
   "cell_type": "code",
   "execution_count": null,
   "id": "e506e7c7-a98b-4d91-9db5-4a6870f55194",
   "metadata": {},
   "outputs": [],
   "source": [
    "# Plus Mnius \n",
    "# https://www.hackerrank.com/challenges/one-week-preparation-kit-plus-minus/problem?h_l=interview&playlist_slugs%5B%5D=preparation-kits&playlist_slugs%5B%5D=one-week-preparation-kit&playlist_slugs%5B%5D=one-week-day-one"
   ]
  }
 ],
 "metadata": {
  "kernelspec": {
   "display_name": "Python 3",
   "language": "python",
   "name": "python3"
  },
  "language_info": {
   "codemirror_mode": {
    "name": "ipython",
    "version": 3
   },
   "file_extension": ".py",
   "mimetype": "text/x-python",
   "name": "python",
   "nbconvert_exporter": "python",
   "pygments_lexer": "ipython3",
   "version": "3.7.10"
  }
 },
 "nbformat": 4,
 "nbformat_minor": 5
}
